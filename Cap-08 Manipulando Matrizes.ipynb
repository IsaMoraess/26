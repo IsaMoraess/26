{
 "cells": [
  {
   "cell_type": "markdown",
   "id": "ff403101",
   "metadata": {},
   "source": [
    "#  Manipulando Matrizes\n"
   ]
  },
  {
   "cell_type": "code",
   "execution_count": null,
   "id": "6c621aea",
   "metadata": {},
   "outputs": [],
   "source": [
    "# Criando uma matriz\n",
    "arr9 = dsa.array([[1,2,3],[4,5,6]])"
   ]
  },
  {
   "cell_type": "code",
   "execution_count": null,
   "id": "b3297d50",
   "metadata": {},
   "outputs": [],
   "source": [
    "type(arr9)"
   ]
  },
  {
   "cell_type": "code",
   "execution_count": null,
   "id": "5ce67166",
   "metadata": {},
   "outputs": [],
   "source": [
    "print(arr9)"
   ]
  },
  {
   "cell_type": "code",
   "execution_count": null,
   "id": "c7617945",
   "metadata": {},
   "outputs": [],
   "source": [
    "# Criando uma matriz 2x3 apenas com numeros \"1\"\n",
    "arr10 = dsa.ones((2,3))"
   ]
  },
  {
   "cell_type": "code",
   "execution_count": null,
   "id": "5587e2ff",
   "metadata": {},
   "outputs": [],
   "source": [
    "print(arr10)"
   ]
  },
  {
   "cell_type": "code",
   "execution_count": 5,
   "id": "ac4e7b51",
   "metadata": {},
   "outputs": [],
   "source": [
    "# Lista de Lista\n",
    "lista =  [[13,81,22],[0, 34, 59],[21, 48, 94]]"
   ]
  },
  {
   "cell_type": "code",
   "execution_count": null,
   "id": "fabcff0f",
   "metadata": {},
   "outputs": [],
   "source": [
    "# A funlção matrix cria uma matriz a partir de uma lista de listas\n",
    "arr11 = dsa.matrix(lista)"
   ]
  },
  {
   "cell_type": "code",
   "execution_count": null,
   "id": "45881d4f",
   "metadata": {},
   "outputs": [],
   "source": [
    "type(arr11)"
   ]
  },
  {
   "cell_type": "code",
   "execution_count": null,
   "id": "923ad0c7",
   "metadata": {},
   "outputs": [],
   "source": [
    "print(arr11)"
   ]
  },
  {
   "cell_type": "code",
   "execution_count": null,
   "id": "226e2f7e",
   "metadata": {},
   "outputs": [],
   "source": [
    "# Formato da matriz \n",
    "dsa.shape(arr11)"
   ]
  },
  {
   "cell_type": "code",
   "execution_count": null,
   "id": "7784bfee",
   "metadata": {},
   "outputs": [],
   "source": [
    "# Tamanho da matriz\n",
    "arr11.size"
   ]
  },
  {
   "cell_type": "code",
   "execution_count": null,
   "id": "0e6cff88",
   "metadata": {},
   "outputs": [],
   "source": [
    "print(arr11.dtype)"
   ]
  },
  {
   "cell_type": "code",
   "execution_count": null,
   "id": "2e1206d8",
   "metadata": {},
   "outputs": [],
   "source": [
    "# Indexeção de matriz \n",
    "arr11.size "
   ]
  },
  {
   "cell_type": "code",
   "execution_count": null,
   "id": "dc1862bb",
   "metadata": {},
   "outputs": [],
   "source": [
    "print(arr11.dtype)"
   ]
  },
  {
   "cell_type": "code",
   "execution_count": null,
   "id": "4b8623b5",
   "metadata": {},
   "outputs": [],
   "source": [
    "print(arr11)"
   ]
  }
 ],
 "metadata": {
  "kernelspec": {
   "display_name": "Python 3 (ipykernel)",
   "language": "python",
   "name": "python3"
  },
  "language_info": {
   "codemirror_mode": {
    "name": "ipython",
    "version": 3
   },
   "file_extension": ".py",
   "mimetype": "text/x-python",
   "name": "python",
   "nbconvert_exporter": "python",
   "pygments_lexer": "ipython3",
   "version": "3.9.13"
  }
 },
 "nbformat": 4,
 "nbformat_minor": 5
}
